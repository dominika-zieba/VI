{
 "cells": [
  {
   "cell_type": "code",
   "execution_count": 1,
   "metadata": {},
   "outputs": [],
   "source": [
    "import numpy as np\n",
    "import jax\n",
    "import jax.numpy as jnp\n",
    "import jimgw\n",
    "import lal"
   ]
  },
  {
   "cell_type": "code",
   "execution_count": 68,
   "metadata": {},
   "outputs": [],
   "source": [
    "import numpy as np\n",
    "\n",
    "import os\n",
    "\n",
    "os.environ['XLA_PYTHON_CLIENT_PREALLOCATE']='false'\n",
    "import optax\n",
    "import corner\n",
    "import matplotlib.pyplot as plt\n",
    "import corner\n",
    "import jax                                           \n",
    "#jax.config.update('jax_platform_name', 'cpu')\n",
    "\n",
    "import jax.numpy as jnp\n",
    "from functools import partial\n",
    "\n",
    "import distrax\n",
    "import haiku as hk      #neural network library for JAX \n",
    "from typing import Any, Iterator, Mapping, Optional, Sequence, Tuple\n",
    "Array = jnp.ndarray\n",
    "PRNGKey = Array\n",
    "OptState = Any\n"
   ]
  },
  {
   "cell_type": "code",
   "execution_count": 2,
   "metadata": {},
   "outputs": [],
   "source": [
    "from interferometer import Interferometer\n",
    "from scipy.interpolate import interp1d\n",
    "import numpy as np\n",
    "import jax.numpy as jnp\n",
    "import gw\n",
    "from matplotlib import pyplot as pl\n",
    "import corner\n",
    "import pickle\n",
    "%matplotlib inline"
   ]
  },
  {
   "cell_type": "code",
   "execution_count": 29,
   "metadata": {},
   "outputs": [],
   "source": [
    "f_min = 0. #minimum frequency cut-off\n",
    "T = 1.  #data segment duration (8 seconds)\n",
    "#Fs = 2048 #samplingfrequency  (Hz)\n",
    "F2 = 20.\n",
    "#t_start = 1126259446. #strain data segment start time \n",
    "t_start=0.\n",
    "# since signals are generated in frequency domain this time is only used for calculating time dealys and hence is set to t_coalsecence\n",
    "\n",
    "#initialise the detectors\n",
    "H1_d = Interferometer('H1','O3',f_min,T,Fs,t_start,20011997)\n",
    "L1_d = Interferometer('L1','O3',f_min,T,Fs,t_start,27071994)"
   ]
  },
  {
   "cell_type": "code",
   "execution_count": 30,
   "metadata": {},
   "outputs": [],
   "source": [
    "def simulate_fd_sine_gaussian_waveform(A, t0, f0, tau, times, fmin, df):   #without phase for now\n",
    "    \n",
    "    t = times\n",
    "    \n",
    "    hpt = A*jnp.exp(-(t-t0)**2/tau**2)*jnp.cos(2*jnp.pi*f0*t) #time domain plus polarisation\n",
    "    hct = A*jnp.exp(-(t-t0)**2/tau**2)*jnp.sin(2*jnp.pi*f0*t) #time domain cross polarisation\n",
    "\n",
    "    hp = jnp.fft.rfft(hpt) #frequency domain plus polarisation\n",
    "    hc = jnp.fft.rfft(hct) #frequency domain cross polarisation\n",
    "\n",
    "    return hp, hc"
   ]
  },
  {
   "cell_type": "code",
   "execution_count": 199,
   "metadata": {},
   "outputs": [],
   "source": [
    "A_big=jnp.array([[10.,5.]])"
   ]
  },
  {
   "cell_type": "code",
   "execution_count": 209,
   "metadata": {},
   "outputs": [
    {
     "data": {
      "text/plain": [
       "(2, 1)"
      ]
     },
     "execution_count": 209,
     "metadata": {},
     "output_type": "execute_result"
    }
   ],
   "source": [
    "A_big.T.shape"
   ]
  },
  {
   "cell_type": "code",
   "execution_count": 195,
   "metadata": {},
   "outputs": [
    {
     "ename": "AttributeError",
     "evalue": "'list' object has no attribute 'shape'",
     "output_type": "error",
     "traceback": [
      "\u001b[0;31m---------------------------------------------------------------------------\u001b[0m",
      "\u001b[0;31mAttributeError\u001b[0m                            Traceback (most recent call last)",
      "Cell \u001b[0;32mIn[195], line 1\u001b[0m\n\u001b[0;32m----> 1\u001b[0m A_big\u001b[39m.\u001b[39;49mshape\n",
      "\u001b[0;31mAttributeError\u001b[0m: 'list' object has no attribute 'shape'"
     ]
    }
   ],
   "source": [
    "A_big.shape"
   ]
  },
  {
   "cell_type": "code",
   "execution_count": 215,
   "metadata": {},
   "outputs": [
    {
     "data": {
      "text/plain": [
       "Array([[0.00000000e+00, 4.88281250e-03, 9.76562500e-03, ...,\n",
       "        9.98535156e+00, 9.99023438e+00, 9.99511719e+00],\n",
       "       [0.00000000e+00, 2.44140625e-03, 4.88281250e-03, ...,\n",
       "        4.99267578e+00, 4.99511719e+00, 4.99755859e+00]], dtype=float64)"
      ]
     },
     "execution_count": 215,
     "metadata": {},
     "output_type": "execute_result"
    }
   ],
   "source": [
    "jnp.matmul(A_big.T, t)"
   ]
  },
  {
   "cell_type": "code",
   "execution_count": 210,
   "metadata": {},
   "outputs": [
    {
     "data": {
      "text/plain": [
       "(Array([[-9.66092332e+01+0.00000000e+00j, -1.17429113e+02-3.41671136e-14j,\n",
       "         -2.19427697e+02+8.49320614e-14j, ...,\n",
       "         -3.59274232e-03-4.29656311e-14j, -3.59271696e-03+5.10980147e-14j,\n",
       "         -3.59270850e-03+0.00000000e+00j],\n",
       "        [-4.83046166e+01+0.00000000e+00j, -5.87145565e+01-1.70835568e-14j,\n",
       "         -1.09713849e+02+4.24660307e-14j, ...,\n",
       "         -1.79637116e-03-2.14828155e-14j, -1.79635848e-03+2.55490074e-14j,\n",
       "         -1.79635425e-03+0.00000000e+00j]], dtype=complex128),\n",
       " Array([[ 1.17498371e-13+0.00000000e+00j,  2.67424971e-14+5.58682660e+01j,\n",
       "          1.07247544e-13+1.76779850e+02j, ...,\n",
       "         -7.77156117e-15+1.35267356e-07j,  1.23373534e-14+6.76330245e-08j,\n",
       "          1.84664772e-14+0.00000000e+00j],\n",
       "        [ 5.87491855e-14+0.00000000e+00j,  1.33712486e-14+2.79341330e+01j,\n",
       "          5.36237721e-14+8.83899252e+01j, ...,\n",
       "         -3.88578059e-15+6.76336782e-08j,  6.16867668e-15+3.38165123e-08j,\n",
       "          9.23323859e-15+0.00000000e+00j]], dtype=complex128))"
      ]
     },
     "execution_count": 210,
     "metadata": {},
     "output_type": "execute_result"
    }
   ],
   "source": [
    "simulate_fd_sine_gaussian_waveform(A_big.T, t0, f0, tau, t, f_min, H1_d.df)"
   ]
  },
  {
   "cell_type": "code",
   "execution_count": 170,
   "metadata": {},
   "outputs": [
    {
     "ename": "TypeError",
     "evalue": "unsupported operand type(s) for *: 'list' and 'Array'",
     "output_type": "error",
     "traceback": [
      "\u001b[0;31m---------------------------------------------------------------------------\u001b[0m",
      "\u001b[0;31mTypeError\u001b[0m                                 Traceback (most recent call last)",
      "Cell \u001b[0;32mIn[170], line 11\u001b[0m\n\u001b[1;32m      7\u001b[0m dec\u001b[39m=\u001b[39m\u001b[39m0.5\u001b[39m\n\u001b[1;32m      8\u001b[0m psi\u001b[39m=\u001b[39m\u001b[39m1.0\u001b[39m\n\u001b[0;32m---> 11\u001b[0m simulate_fd_sine_gaussian_waveform(A, t0, f0, tau, t, f_min, H1_d\u001b[39m.\u001b[39;49mdf)\n\u001b[1;32m     13\u001b[0m \u001b[39m#simulate signal \u001b[39;00m\n\u001b[1;32m     14\u001b[0m hp, hc \u001b[39m=\u001b[39m simulate_fd_sine_gaussian_waveform(A,t0,f0,tau,t,\u001b[39m0.\u001b[39m,H1_d\u001b[39m.\u001b[39mdf)\n",
      "Cell \u001b[0;32mIn[30], line 5\u001b[0m, in \u001b[0;36msimulate_fd_sine_gaussian_waveform\u001b[0;34m(A, t0, f0, tau, times, fmin, df)\u001b[0m\n\u001b[1;32m      1\u001b[0m \u001b[39mdef\u001b[39;00m \u001b[39msimulate_fd_sine_gaussian_waveform\u001b[39m(A, t0, f0, tau, times, fmin, df):   \u001b[39m#without phase for now\u001b[39;00m\n\u001b[1;32m      3\u001b[0m     t \u001b[39m=\u001b[39m times\n\u001b[0;32m----> 5\u001b[0m     hpt \u001b[39m=\u001b[39m A \u001b[39m*\u001b[39;49m jnp\u001b[39m.\u001b[39;49mexp(\u001b[39m-\u001b[39;49m(t\u001b[39m-\u001b[39;49mt0)\u001b[39m*\u001b[39;49m\u001b[39m*\u001b[39;49m\u001b[39m2\u001b[39;49m\u001b[39m/\u001b[39;49mtau\u001b[39m*\u001b[39;49m\u001b[39m*\u001b[39;49m\u001b[39m2\u001b[39;49m)\u001b[39m*\u001b[39mjnp\u001b[39m.\u001b[39mcos(\u001b[39m2\u001b[39m\u001b[39m*\u001b[39mjnp\u001b[39m.\u001b[39mpi\u001b[39m*\u001b[39mf0\u001b[39m*\u001b[39mt) \u001b[39m#time domain plus polarisation\u001b[39;00m\n\u001b[1;32m      6\u001b[0m     hct \u001b[39m=\u001b[39m A \u001b[39m*\u001b[39m jnp\u001b[39m.\u001b[39mexp(\u001b[39m-\u001b[39m(t\u001b[39m-\u001b[39mt0)\u001b[39m*\u001b[39m\u001b[39m*\u001b[39m\u001b[39m2\u001b[39m\u001b[39m/\u001b[39mtau\u001b[39m*\u001b[39m\u001b[39m*\u001b[39m\u001b[39m2\u001b[39m)\u001b[39m*\u001b[39mjnp\u001b[39m.\u001b[39msin(\u001b[39m2\u001b[39m\u001b[39m*\u001b[39mjnp\u001b[39m.\u001b[39mpi\u001b[39m*\u001b[39mf0\u001b[39m*\u001b[39mt) \u001b[39m#time domain cross polarisation\u001b[39;00m\n\u001b[1;32m      8\u001b[0m     hp \u001b[39m=\u001b[39m jnp\u001b[39m.\u001b[39mfft\u001b[39m.\u001b[39mrfft(hpt) \u001b[39m#frequency domain plus polarisation\u001b[39;00m\n",
      "File \u001b[0;32m~/.conda/envs/vigw/lib/python3.10/site-packages/jax/_src/numpy/lax_numpy.py:4950\u001b[0m, in \u001b[0;36m_defer_to_unrecognized_arg.<locals>.deferring_binary_op\u001b[0;34m(self, other)\u001b[0m\n\u001b[1;32m   4948\u001b[0m   \u001b[39mreturn\u001b[39;00m binary_op(\u001b[39m*\u001b[39margs)\n\u001b[1;32m   4949\u001b[0m \u001b[39mif\u001b[39;00m \u001b[39misinstance\u001b[39m(other, _rejected_binop_types):\n\u001b[0;32m-> 4950\u001b[0m   \u001b[39mraise\u001b[39;00m \u001b[39mTypeError\u001b[39;00m(\u001b[39mf\u001b[39m\u001b[39m\"\u001b[39m\u001b[39munsupported operand type(s) for \u001b[39m\u001b[39m{\u001b[39;00mopchar\u001b[39m}\u001b[39;00m\u001b[39m: \u001b[39m\u001b[39m\"\u001b[39m\n\u001b[1;32m   4951\u001b[0m                   \u001b[39mf\u001b[39m\u001b[39m\"\u001b[39m\u001b[39m{\u001b[39;00m\u001b[39mtype\u001b[39m(args[\u001b[39m0\u001b[39m])\u001b[39m.\u001b[39m\u001b[39m__name__\u001b[39m\u001b[39m!r}\u001b[39;00m\u001b[39m and \u001b[39m\u001b[39m{\u001b[39;00m\u001b[39mtype\u001b[39m(args[\u001b[39m1\u001b[39m])\u001b[39m.\u001b[39m\u001b[39m__name__\u001b[39m\u001b[39m!r}\u001b[39;00m\u001b[39m\"\u001b[39m)\n\u001b[1;32m   4952\u001b[0m \u001b[39mreturn\u001b[39;00m \u001b[39mNotImplemented\u001b[39m\n",
      "\u001b[0;31mTypeError\u001b[0m: unsupported operand type(s) for *: 'list' and 'Array'"
     ]
    }
   ],
   "source": [
    "t=H1_d.times #time array for the time domain signal\n",
    "A=10\n",
    "t0=0.5\n",
    "f0=4.\n",
    "tau=2./f0\n",
    "ra=1.5\n",
    "dec=0.5\n",
    "psi=1.0\n",
    "\n",
    "\n",
    "simulate_fd_sine_gaussian_waveform(A, t0, f0, tau, t, f_min, H1_d.df)\n",
    "\n",
    "#simulate signal \n",
    "hp, hc = simulate_fd_sine_gaussian_waveform(A,t0,f0,tau,t,0.,H1_d.df)\n",
    "hct = jnp.fft.irfft(hc)\n",
    "pl.plot(t,hct)\n",
    "print(hp,hc)"
   ]
  },
  {
   "cell_type": "code",
   "execution_count": 55,
   "metadata": {},
   "outputs": [],
   "source": [
    "from curses import KEY_REPLACE\n",
    "import lalsimulation as lalsim \n",
    "import numpy as np\n",
    "import jax.numpy as jnp\n",
    "import jax\n",
    "\n",
    "# from ripple.waveforms.IMRPhenomD import gen_IMRPhenomD_polar\n",
    "from ripple import ms_to_Mc_eta\n",
    "from ripple.waveforms.IMRPhenomD import gen_IMRPhenomD_polar\n",
    "from ripple.waveforms.IMRPhenomD import gen_IMRPhenomD\n",
    "from jimgw.PE.detector_preset import * \n",
    "from jimgw.PE.heterodyneLikelihood import make_heterodyne_likelihood_mutliple_detector\n",
    "from jimgw.PE.detector_projection import make_detector_response\n",
    "\n",
    "psd_func_dict = {\n",
    "    'H1': lalsim.SimNoisePSDaLIGOZeroDetHighPower,\n",
    "    'L1': lalsim.SimNoisePSDaLIGOZeroDetHighPower,\n",
    "    'V1': lalsim.SimNoisePSDAdvVirgo,\n",
    "}\n",
    "ifos = list(psd_func_dict.keys())\n",
    "\n",
    "\n",
    "hp, hc = simulate_fd_sine_gaussian_waveform(A, t0, f0, tau, H1_d.times, f_min, H1_d.df)\n",
    "\n",
    "H1 = get_H1()\n",
    "H1_response = make_detector_response(H1[0], H1[1])   #detector_response(f, hp, hc, ra, dec, gmst, psi), strain in freq domain\n",
    "L1 = get_L1()\n",
    "L1_response = make_detector_response(L1[0], L1[1])   \n",
    "\n",
    "gps = lal.LIGOTimeGPS(t0)\n",
    "gmst_rad = lal.GreenwichMeanSiderealTime(gps)\n",
    "\n",
    "#f_list = freqs[freqs>fmin]\n",
    "\n",
    "L1_signal = L1_response(H1_d.freqs, hp, hc, ra, dec, gmst_rad, psi)   \n",
    "H1_signal = H1_response(H1_d.freqs, hp, hc, ra, dec, gmst_rad, psi)  \n",
    "\n",
    "H1_noise = 0\n",
    "L1_noise = 0\n",
    "\n",
    "#H1_noise = noise_fd_dict['H1'][freqs>fmin]\n",
    "H1_data = H1_noise + H1_signal\n",
    "\n",
    "#L1_noise = noise_fd_dict['L1'][freqs>fmin]\n",
    "L1_data = L1_noise + L1_signal\n",
    "\n",
    "response = {'H1': H1_response, 'L1': L1_response}\n"
   ]
  },
  {
   "cell_type": "code",
   "execution_count": 105,
   "metadata": {},
   "outputs": [
    {
     "data": {
      "text/plain": [
       "Array([-1.59374413e+01+0.00000000e+00j, -1.71760402e+01+3.30585983e+01j,\n",
       "       -2.22819160e+01+1.04653927e+02j, ...,\n",
       "       -5.92151384e-04+2.52119695e-05j, -5.89091466e-04+6.51550868e-05j,\n",
       "       -5.83343078e-04+1.04800473e-04j], dtype=complex128)"
      ]
     },
     "execution_count": 105,
     "metadata": {},
     "output_type": "execute_result"
    }
   ],
   "source": [
    "L1_response(H1_d.freqs, hp, hc, 2, 11, gmst_rad, psi)"
   ]
  },
  {
   "cell_type": "code",
   "execution_count": 62,
   "metadata": {},
   "outputs": [],
   "source": [
    "def project_to_detector(detector, hp, hc, ra, dec, gmst_rad, psi):                   #unfix the frequency array?\n",
    "    \"\"\"Compute the response of the detector to incoming strain \"\"\"\n",
    "    return response[detector](H1_d.freqs, hp, hc, ra, dec, gmst_rad, psi)"
   ]
  },
  {
   "cell_type": "code",
   "execution_count": 63,
   "metadata": {},
   "outputs": [
    {
     "data": {
      "text/plain": [
       "Array([4.22691916e+01+0.00000000e+00j, 5.08978328e+01+1.61448082e+01j,\n",
       "       9.29365941e+01+5.19370812e+01j, ...,\n",
       "       1.30238290e-03+8.80194250e-04j, 1.27418124e-03+9.20527249e-04j,\n",
       "       1.24473685e-03+9.59961870e-04j], dtype=complex128)"
      ]
     },
     "execution_count": 63,
     "metadata": {},
     "output_type": "execute_result"
    }
   ],
   "source": [
    "true_params = dict(\n",
    "        A=10.,\n",
    "        t0=0.5,\n",
    "        f0=4.,\n",
    "        tau=2./f0,\n",
    "        ra=1.5,\n",
    "        dec=0.5,\n",
    "        psi=1.0)\n",
    "\n",
    "detector = 'H1'\n",
    "project_to_detector(detector, hp, hc, true_params['ra'], true_params['dec'], gmst_rad,  true_params['psi'] )"
   ]
  },
  {
   "cell_type": "code",
   "execution_count": 171,
   "metadata": {},
   "outputs": [],
   "source": [
    "true_params = dict(\n",
    "        A=10.,\n",
    "        t0=0.5,\n",
    "        f0=4.,\n",
    "        tau=2./f0,\n",
    "        ra=1.5,\n",
    "        dec=0.5,\n",
    "        psi=1.0)\n",
    "\n",
    "# likelihood function\n",
    "\n",
    "class LogL(object):\n",
    "    \n",
    "    def __init__(self, true_gw_params):\n",
    "        \n",
    "        self.true_gw_params = true_gw_params\n",
    "        self.detectors = {'H1': H1, 'L1': L1}\n",
    "        \n",
    "        gps_time = true_gw_params['t0']     #time of coalescence\n",
    "        gps = lal.LIGOTimeGPS(gps_time)\n",
    "        self.gmst_rad = lal.GreenwichMeanSiderealTime(gps)\n",
    "        self.A = true_gw_params['A']\n",
    "        self.t0 = true_gw_params['t0']\n",
    "        self.f0 = true_gw_params['f0']\n",
    "        self.tau = true_gw_params['tau']\n",
    "        self.ra=true_gw_params['ra']\n",
    "        self.dec = true_gw_params['dec']\n",
    "        self.psi= true_gw_params['psi']\n",
    "\n",
    "        self.f_min = 0.\n",
    "        self.times = H1_d.times\n",
    "        self.df = H1_d.df\n",
    "   \n",
    "        # simulate data\n",
    "        #T = 1 # duration of analysis segment\n",
    "        #srate = 20\n",
    "        #df = 1/T\n",
    "        #freqs = jnp.arange(1+srate*T, dtype=jnp.float32)*df\n",
    "        #f0 = 100\n",
    "        #Nbins = 1\n",
    "        #i0 =int(f0/df)\n",
    "        #self.freqs = jnp.atleast_2d(freqs[i0])\n",
    "\n",
    "        #self.beta = 1/T\n",
    "\n",
    "        #hp=true_gw_params['A']*jnp.cos(true_gw_params['phi'])     #plus polarisation\n",
    "        #hc=true_gw_params['A']*jnp.sin(true_gw_params['phi'])    #cross polarisation\n",
    "        \n",
    "        self.hp, self.hc = simulate_fd_sine_gaussian_waveform(self.A, self.t0, self.f0, self.tau, H1_d.times, self.f_min, H1_d.df)\n",
    "        self.data = self.simulate_response(self.hp, self.hc, self.ra, self.dec, self.psi)\n",
    "        \n",
    "        #self.bounds = dict(\n",
    "        #    A = [self.true_params['A']*jnp.exp(-1), self.true_params['A']*jnp.exp(1)],\n",
    "          #  phi = [-jnp.pi, jnp.pi],\n",
    "         #  dec = [-jnp.pi/2, jnp.pi/2],\n",
    "         #   ra = [0, jnp.pi*2],\n",
    "         #   psi = [-jnp.pi/2, jnp.pi/2]\n",
    "       # )\n",
    "\n",
    "    def simulate_response(self, hp, hc, ra, dec, psi):\n",
    "        r = {d: project_to_detector(d, hp, hc, ra, dec, self.gmst_rad, psi) for d in self.detectors.keys()}\n",
    "        return r\n",
    "    \n",
    "    def __call__(self, params):\n",
    "        hp, hc = simulate_fd_sine_gaussian_waveform(params['A'], self.t0, self.f0, self.tau, self.times, self.f_min, self.df)\n",
    "        \n",
    "        r = self.simulate_response(hp, hc, params['ra'], params['dec'], params['psi'])\n",
    "\n",
    "        residuals = jnp.array([r[ifo] - self.data[ifo] for ifo in self.detectors.keys()])\n",
    "        \n",
    "        return -jnp.real(jnp.sum(residuals*jnp.conj(residuals),axis=(0,1)))/2\n",
    "\n",
    "    @property\n",
    "    def params(self):\n",
    "        params = ['A','phi','dec','ra','psi']\n",
    "        return params\n",
    "\n",
    "\n",
    "    #@jax.jit\n",
    "    def array_to_phys(self, x: Array) -> dict:\n",
    "        \n",
    "        p = dict()\n",
    "        p['A'] = x[:,0] \n",
    "        p['ra'] = x[:,1]\n",
    "        p['dec'] = x[:,2]\n",
    "        p['psi'] = x[:,3]\n",
    "\n",
    "        return p"
   ]
  },
  {
   "cell_type": "code",
   "execution_count": 172,
   "metadata": {},
   "outputs": [],
   "source": [
    "#Neural network setup\n",
    "\n",
    "from vi_routines import make_flow_model\n",
    "\n",
    "@hk.without_apply_rng\n",
    "@hk.transform\n",
    "def sample_and_log_prob(prng_key: PRNGKey, n: int) -> Tuple[Any, Array]:\n",
    "\n",
    "    model = make_flow_model(                          #this is the flow distribution (a distrax object)\n",
    "        event_shape=(n_params,),\n",
    "        num_layers=flow_num_layers,\n",
    "        hidden_sizes=[hidden_size] * mlp_num_layers,\n",
    "        num_bins=num_bins\n",
    "    )\n",
    "\n",
    "    return model.sample_and_log_prob(seed=prng_key, sample_shape=(n,))\n",
    "     # returns x (sample from the flow q), and model.log_prob(x) (array of log(q) of th sampled points)\n",
    "\n",
    "\n",
    "def log_likelihood(x: Array) -> Array:      #transform to parameter space before c\n",
    "    p = log_l.array_to_phys(x)\n",
    "    print(p)\n",
    "    return log_l(p)\n",
    "\n",
    "def loss_fn(params: hk.Params, prng_key: PRNGKey, n: int) -> Array:       #computes reverse KL-divergence for the sample x_flow between the flow and gw loglikelihood.\n",
    "\n",
    "    x_flow, log_q = sample_and_log_prob.apply(params, prng_key, n)           #gets sample from the flow and computes log_q for the sampled points.\n",
    "    log_p = log_likelihood(x_flow)\n",
    "                                           #gets gw loglikelihood for the sampled points (after transforming them into physical space..)\n",
    "    loss = jnp.mean(log_q - log_p)\n",
    "    return loss\n",
    "\n",
    "@jax.jit\n",
    "def update(\n",
    "    params: hk.Params,\n",
    "    prng_key: PRNGKey,\n",
    "    opt_state: OptState,\n",
    ") -> Tuple[hk.Params, OptState]:\n",
    "    \"\"\"Single SGD update step.\"\"\"\n",
    "    grads = jax.grad(loss_fn)(params, prng_key, Nsamps)\n",
    "    updates, new_opt_state = optimiser.update(grads, opt_state)\n",
    "    new_params = optax.apply_updates(params, updates)\n",
    "    return new_params, new_opt_state"
   ]
  },
  {
   "cell_type": "code",
   "execution_count": 173,
   "metadata": {},
   "outputs": [
    {
     "name": "stderr",
     "output_type": "stream",
     "text": [
      "  0%|          | 0/100 [00:00<?, ?it/s]"
     ]
    },
    {
     "name": "stdout",
     "output_type": "stream",
     "text": [
      "{'A': Array([-0.5431577 ,  0.96932533, -0.3475862 ,  0.71317518,  0.24289826,\n",
      "        0.6124214 ,  0.03533857,  0.2956065 , -0.79037099,  0.26872634,\n",
      "        0.97840075,  0.33450018,  0.33042742, -0.44370358,  0.56553786,\n",
      "       -0.32010291, -0.93359144, -0.8533547 ,  0.75119936, -0.59289556,\n",
      "        0.51314745, -0.8727492 ,  0.1009783 ,  0.65345818, -0.30324559,\n",
      "        0.8770263 , -0.03618788,  0.84738053,  0.67809712,  0.94322702,\n",
      "       -0.24082463, -0.85283436, -0.95810391,  0.30869714, -0.17361   ,\n",
      "       -0.84709579,  0.79757859,  0.94255953,  0.4196401 , -0.6562728 ,\n",
      "       -0.44330852,  0.21718657, -0.31422378, -0.88270261,  0.46518684,\n",
      "       -0.97747418,  0.67863249,  0.86348478,  0.87965681, -0.06704527,\n",
      "        0.70349583, -0.05951069,  0.02736778, -0.41523776,  0.83175709,\n",
      "        0.77379272,  0.66452742,  0.34733266, -0.54080936, -0.81759559,\n",
      "        0.73358162, -0.08136186,  0.55466134, -0.98024018,  0.70347278,\n",
      "       -0.44012189,  0.74985507, -0.52917137,  0.33750467, -0.57852254,\n",
      "       -0.36776554,  0.04882255,  0.31427108,  0.66239533, -0.81269097,\n",
      "       -0.70476486, -0.28815768,  0.28104182, -0.08030977, -0.43799848,\n",
      "       -0.31010855,  0.68717026, -0.30174156, -0.67611598,  0.39324406,\n",
      "       -0.59925809,  0.3287548 , -0.69548253, -0.46191823, -0.01569062,\n",
      "        0.94731879,  0.39464492, -0.75908743, -0.3725757 , -0.92230431,\n",
      "        0.43075528,  0.76948236,  0.91926295, -0.49016889, -0.23625822],      dtype=float64), 'ra': Array([ 0.05269671, -0.35087918,  0.71124451, -0.23725713,  0.51636056,\n",
      "       -0.00562585,  0.49017102, -0.86174783,  0.94564204, -0.54599882,\n",
      "        0.11978177,  0.30280471,  0.20941793, -0.16242138, -0.28155826,\n",
      "        0.43355888,  0.60719461, -0.69050676,  0.8487303 ,  0.48689786,\n",
      "       -0.03446158, -0.17652553,  0.23483308,  0.84062953,  0.93767689,\n",
      "       -0.57576058,  0.24445757, -0.30482002,  0.35253293, -0.3718612 ,\n",
      "       -0.86458297,  0.93187303,  0.75573306, -0.11856857, -0.95511065,\n",
      "       -0.88595219, -0.76566586, -0.18325608,  0.22013947, -0.45073723,\n",
      "       -0.64344436,  0.65787103,  0.53826527, -0.04028984, -0.90508953,\n",
      "        0.70509752,  0.09385409, -0.41520677, -0.9016395 , -0.13070907,\n",
      "        0.34696532, -0.60601057, -0.74970338,  0.8325883 , -0.42560854,\n",
      "       -0.13563502,  0.47536853, -0.74125685,  0.53949438, -0.29775248,\n",
      "        0.8689156 ,  0.38121753,  0.60593647,  0.90965258,  0.28629331,\n",
      "        0.29660618, -0.61831877,  0.30646153,  0.8539824 ,  0.31132605,\n",
      "       -0.92350022, -0.96681462,  0.85448385, -0.01099501, -0.93795784,\n",
      "        0.3367399 ,  0.31030322,  0.23131137, -0.83728214, -0.31454001,\n",
      "        0.26907539,  0.29136444, -0.67886417, -0.25989839, -0.25216847,\n",
      "        0.87605423,  0.12944715,  0.30099273, -0.96455844,  0.8564251 ,\n",
      "       -0.02911314, -0.30946133, -0.70401416,  0.25296443,  0.62684438,\n",
      "       -0.26145781, -0.50581153,  0.07727674,  0.09410911,  0.19641974],      dtype=float64), 'dec': Array([-0.7512385 , -0.58273929,  0.35995947, -0.22994588,  0.5346247 ,\n",
      "        0.11916692, -0.71728279,  0.05660289,  0.20313522, -0.48572016,\n",
      "        0.45536502,  0.31531002, -0.06569209, -0.22679162,  0.86202393,\n",
      "       -0.63275493,  0.75215704,  0.77528555,  0.27781443,  0.07568125,\n",
      "       -0.5608352 ,  0.9254743 , -0.03979318, -0.13126839,  0.67187547,\n",
      "        0.63007273,  0.16367354, -0.44253426,  0.88147731,  0.98225149,\n",
      "       -0.70711502,  0.79392643, -0.06601314, -0.34291759, -0.34276683,\n",
      "        0.24705206,  0.50113098, -0.77885836,  0.38065639, -0.37709048,\n",
      "        0.6864855 ,  0.59336442, -0.17951112,  0.92772738,  0.91900679,\n",
      "       -0.49148973, -0.2498986 , -0.48235905,  0.92683293,  0.16253274,\n",
      "        0.57602566,  0.03677097,  0.67537921, -0.57642739, -0.16801742,\n",
      "       -0.09230055,  0.03067461,  0.56001095,  0.27039919, -0.42408147,\n",
      "        0.57676392,  0.35868475,  0.15732142, -0.78480506, -0.29583694,\n",
      "       -0.04747551, -0.64249523,  0.89354937, -0.86964212,  0.33676972,\n",
      "       -0.88654267,  0.20956262,  0.31462727, -0.65900917,  0.79681096,\n",
      "       -0.68672318, -0.67422193, -0.24354729, -0.89990767,  0.00179224,\n",
      "       -0.59380808,  0.56357077,  0.830236  , -0.76713336, -0.27518317,\n",
      "       -0.75415893,  0.78422051,  0.83472285, -0.88479619, -0.33649591,\n",
      "       -0.6257294 ,  0.40769594, -0.71708135,  0.3147558 , -0.40045173,\n",
      "       -0.20908002, -0.46179106,  0.46191297, -0.99647871,  0.4354375 ],      dtype=float64), 'psi': Array([ 0.92817978,  0.80927816, -0.15062909,  0.6349227 , -0.62976955,\n",
      "       -0.2701782 , -0.73766625, -0.97652176,  0.32098704,  0.66152928,\n",
      "        0.08180152, -0.79089428, -0.3012506 ,  0.23372637, -0.34207279,\n",
      "        0.65125954,  0.14950594, -0.77056853,  0.0323106 , -0.60138643,\n",
      "       -0.18093506, -0.68528322, -0.31368227, -0.11362344, -0.77421932,\n",
      "        0.55768325,  0.4335272 , -0.48737187, -0.57388027, -0.10654001,\n",
      "        0.4786884 ,  0.53772338,  0.50265902,  0.69498492, -0.77438002,\n",
      "        0.18660273,  0.44583351, -0.93772988, -0.66306164,  0.14199005,\n",
      "       -0.72298046, -0.44342121, -0.72864875,  0.65813323,  0.93207209,\n",
      "       -0.26941764,  0.94323605, -0.43007024,  0.63739677,  0.21070893,\n",
      "       -0.9949237 ,  0.12792835,  0.13306063, -0.77157436, -0.21742056,\n",
      "       -0.45259716, -0.75375608, -0.98297565,  0.71037112, -0.84102031,\n",
      "       -0.4399107 ,  0.26401024, -0.96856931,  0.55468064,  0.75114644,\n",
      "        0.61776893,  0.70104083,  0.53113919, -0.70243152, -0.45345378,\n",
      "       -0.7631965 , -0.69040018, -0.2567369 ,  0.64096468, -0.25872267,\n",
      "        0.34455664,  0.18125548, -0.99451946,  0.83740003,  0.61854729,\n",
      "       -0.50028982, -0.26092084, -0.94871346,  0.38002274, -0.62498043,\n",
      "        0.74127801,  0.76570456,  0.57312002, -0.85823166, -0.3878034 ,\n",
      "        0.02189131,  0.1287716 ,  0.40880263,  0.25514041, -0.9861096 ,\n",
      "        0.49456327,  0.11095721,  0.58587645,  0.18310146, -0.92864658],      dtype=float64)}\n"
     ]
    },
    {
     "name": "stderr",
     "output_type": "stream",
     "text": [
      "\n"
     ]
    },
    {
     "ename": "ValueError",
     "evalue": "Incompatible shapes for broadcasting: shapes=[(100,), (1, 2048)]",
     "output_type": "error",
     "traceback": [
      "\u001b[0;31m---------------------------------------------------------------------------\u001b[0m",
      "\u001b[0;31mValueError\u001b[0m                                Traceback (most recent call last)",
      "    \u001b[0;31m[... skipping hidden 1 frame]\u001b[0m\n",
      "File \u001b[0;32m~/.conda/envs/vigw/lib/python3.10/site-packages/jax/_src/util.py:254\u001b[0m, in \u001b[0;36mcache.<locals>.wrap.<locals>.wrapper\u001b[0;34m(*args, **kwargs)\u001b[0m\n\u001b[1;32m    253\u001b[0m \u001b[39melse\u001b[39;00m:\n\u001b[0;32m--> 254\u001b[0m   \u001b[39mreturn\u001b[39;00m cached(config\u001b[39m.\u001b[39;49m_trace_context(), \u001b[39m*\u001b[39;49margs, \u001b[39m*\u001b[39;49m\u001b[39m*\u001b[39;49mkwargs)\n",
      "File \u001b[0;32m~/.conda/envs/vigw/lib/python3.10/site-packages/jax/_src/util.py:247\u001b[0m, in \u001b[0;36mcache.<locals>.wrap.<locals>.cached\u001b[0;34m(_, *args, **kwargs)\u001b[0m\n\u001b[1;32m    245\u001b[0m \u001b[39m@functools\u001b[39m\u001b[39m.\u001b[39mlru_cache(max_size)\n\u001b[1;32m    246\u001b[0m \u001b[39mdef\u001b[39;00m \u001b[39mcached\u001b[39m(_, \u001b[39m*\u001b[39margs, \u001b[39m*\u001b[39m\u001b[39m*\u001b[39mkwargs):\n\u001b[0;32m--> 247\u001b[0m   \u001b[39mreturn\u001b[39;00m f(\u001b[39m*\u001b[39;49margs, \u001b[39m*\u001b[39;49m\u001b[39m*\u001b[39;49mkwargs)\n",
      "File \u001b[0;32m~/.conda/envs/vigw/lib/python3.10/site-packages/jax/_src/lax/lax.py:141\u001b[0m, in \u001b[0;36m_broadcast_shapes_cached\u001b[0;34m(*shapes)\u001b[0m\n\u001b[1;32m    139\u001b[0m \u001b[39m@cache\u001b[39m()\n\u001b[1;32m    140\u001b[0m \u001b[39mdef\u001b[39;00m \u001b[39m_broadcast_shapes_cached\u001b[39m(\u001b[39m*\u001b[39mshapes: Tuple[\u001b[39mint\u001b[39m, \u001b[39m.\u001b[39m\u001b[39m.\u001b[39m\u001b[39m.\u001b[39m]) \u001b[39m-\u001b[39m\u001b[39m>\u001b[39m Tuple[\u001b[39mint\u001b[39m, \u001b[39m.\u001b[39m\u001b[39m.\u001b[39m\u001b[39m.\u001b[39m]:\n\u001b[0;32m--> 141\u001b[0m   \u001b[39mreturn\u001b[39;00m _broadcast_shapes_uncached(\u001b[39m*\u001b[39;49mshapes)\n",
      "File \u001b[0;32m~/.conda/envs/vigw/lib/python3.10/site-packages/jax/_src/lax/lax.py:157\u001b[0m, in \u001b[0;36m_broadcast_shapes_uncached\u001b[0;34m(*shapes)\u001b[0m\n\u001b[1;32m    156\u001b[0m \u001b[39mif\u001b[39;00m result_shape \u001b[39mis\u001b[39;00m \u001b[39mNone\u001b[39;00m:\n\u001b[0;32m--> 157\u001b[0m   \u001b[39mraise\u001b[39;00m \u001b[39mValueError\u001b[39;00m(\u001b[39mf\u001b[39m\u001b[39m\"\u001b[39m\u001b[39mIncompatible shapes for broadcasting: shapes=\u001b[39m\u001b[39m{\u001b[39;00m\u001b[39mlist\u001b[39m(shapes)\u001b[39m}\u001b[39;00m\u001b[39m\"\u001b[39m)\n\u001b[1;32m    158\u001b[0m \u001b[39mreturn\u001b[39;00m result_shape\n",
      "\u001b[0;31mValueError\u001b[0m: Incompatible shapes for broadcasting: shapes=[(100,), (1, 2048)]",
      "\nDuring handling of the above exception, another exception occurred:\n",
      "\u001b[0;31mValueError\u001b[0m                                Traceback (most recent call last)",
      "Cell \u001b[0;32mIn[173], line 32\u001b[0m\n\u001b[1;32m     28\u001b[0m \u001b[39mfor\u001b[39;00m epoch \u001b[39min\u001b[39;00m tepochs:\n\u001b[1;32m     29\u001b[0m \n\u001b[1;32m     30\u001b[0m     \u001b[39m#update NN params (stochastic gradient descent with Adam optimiser)\u001b[39;00m\n\u001b[1;32m     31\u001b[0m     prng_key \u001b[39m=\u001b[39m \u001b[39mnext\u001b[39m(prng_seq)\n\u001b[0;32m---> 32\u001b[0m     loss \u001b[39m=\u001b[39m loss_fn(params,  prng_key, Nsamps)\n\u001b[1;32m     33\u001b[0m     ldict[\u001b[39m'\u001b[39m\u001b[39mloss\u001b[39m\u001b[39m'\u001b[39m] \u001b[39m=\u001b[39m \u001b[39mf\u001b[39m\u001b[39m'\u001b[39m\u001b[39m{\u001b[39;00mloss\u001b[39m:\u001b[39;00m\u001b[39m.2f\u001b[39m\u001b[39m}\u001b[39;00m\u001b[39m'\u001b[39m\n\u001b[1;32m     34\u001b[0m     tepochs\u001b[39m.\u001b[39mset_postfix(ldict, refresh\u001b[39m=\u001b[39m\u001b[39mTrue\u001b[39;00m)\n",
      "Cell \u001b[0;32mIn[172], line 28\u001b[0m, in \u001b[0;36mloss_fn\u001b[0;34m(params, prng_key, n)\u001b[0m\n\u001b[1;32m     25\u001b[0m \u001b[39mdef\u001b[39;00m \u001b[39mloss_fn\u001b[39m(params: hk\u001b[39m.\u001b[39mParams, prng_key: PRNGKey, n: \u001b[39mint\u001b[39m) \u001b[39m-\u001b[39m\u001b[39m>\u001b[39m Array:       \u001b[39m#computes reverse KL-divergence for the sample x_flow between the flow and gw loglikelihood.\u001b[39;00m\n\u001b[1;32m     27\u001b[0m     x_flow, log_q \u001b[39m=\u001b[39m sample_and_log_prob\u001b[39m.\u001b[39mapply(params, prng_key, n)           \u001b[39m#gets sample from the flow and computes log_q for the sampled points.\u001b[39;00m\n\u001b[0;32m---> 28\u001b[0m     log_p \u001b[39m=\u001b[39m log_likelihood(x_flow)\n\u001b[1;32m     29\u001b[0m                                            \u001b[39m#gets gw loglikelihood for the sampled points (after transforming them into physical space..)\u001b[39;00m\n\u001b[1;32m     30\u001b[0m     loss \u001b[39m=\u001b[39m jnp\u001b[39m.\u001b[39mmean(log_q \u001b[39m-\u001b[39m log_p)\n",
      "Cell \u001b[0;32mIn[172], line 23\u001b[0m, in \u001b[0;36mlog_likelihood\u001b[0;34m(x)\u001b[0m\n\u001b[1;32m     21\u001b[0m p \u001b[39m=\u001b[39m log_l\u001b[39m.\u001b[39marray_to_phys(x)\n\u001b[1;32m     22\u001b[0m \u001b[39mprint\u001b[39m(p)\n\u001b[0;32m---> 23\u001b[0m \u001b[39mreturn\u001b[39;00m log_l(p)\n",
      "Cell \u001b[0;32mIn[171], line 65\u001b[0m, in \u001b[0;36mLogL.__call__\u001b[0;34m(self, params)\u001b[0m\n\u001b[1;32m     64\u001b[0m \u001b[39mdef\u001b[39;00m \u001b[39m__call__\u001b[39m(\u001b[39mself\u001b[39m, params):\n\u001b[0;32m---> 65\u001b[0m     hp, hc \u001b[39m=\u001b[39m simulate_fd_sine_gaussian_waveform(params[\u001b[39m'\u001b[39;49m\u001b[39mA\u001b[39;49m\u001b[39m'\u001b[39;49m], \u001b[39mself\u001b[39;49m\u001b[39m.\u001b[39;49mt0, \u001b[39mself\u001b[39;49m\u001b[39m.\u001b[39;49mf0, \u001b[39mself\u001b[39;49m\u001b[39m.\u001b[39;49mtau, jnp\u001b[39m.\u001b[39;49matleast_2d(\u001b[39mself\u001b[39;49m\u001b[39m.\u001b[39;49mtimes), \u001b[39mself\u001b[39;49m\u001b[39m.\u001b[39;49mf_min, \u001b[39mself\u001b[39;49m\u001b[39m.\u001b[39;49mdf)\n\u001b[1;32m     67\u001b[0m     r \u001b[39m=\u001b[39m \u001b[39mself\u001b[39m\u001b[39m.\u001b[39msimulate_response(hp, hc, params[\u001b[39m'\u001b[39m\u001b[39mra\u001b[39m\u001b[39m'\u001b[39m], params[\u001b[39m'\u001b[39m\u001b[39mdec\u001b[39m\u001b[39m'\u001b[39m], params[\u001b[39m'\u001b[39m\u001b[39mpsi\u001b[39m\u001b[39m'\u001b[39m])\n\u001b[1;32m     69\u001b[0m     residuals \u001b[39m=\u001b[39m jnp\u001b[39m.\u001b[39marray([r[ifo] \u001b[39m-\u001b[39m \u001b[39mself\u001b[39m\u001b[39m.\u001b[39mdata[ifo] \u001b[39mfor\u001b[39;00m ifo \u001b[39min\u001b[39;00m \u001b[39mself\u001b[39m\u001b[39m.\u001b[39mdetectors\u001b[39m.\u001b[39mkeys()])\n",
      "Cell \u001b[0;32mIn[30], line 5\u001b[0m, in \u001b[0;36msimulate_fd_sine_gaussian_waveform\u001b[0;34m(A, t0, f0, tau, times, fmin, df)\u001b[0m\n\u001b[1;32m      1\u001b[0m \u001b[39mdef\u001b[39;00m \u001b[39msimulate_fd_sine_gaussian_waveform\u001b[39m(A, t0, f0, tau, times, fmin, df):   \u001b[39m#without phase for now\u001b[39;00m\n\u001b[1;32m      3\u001b[0m     t \u001b[39m=\u001b[39m times\n\u001b[0;32m----> 5\u001b[0m     hpt \u001b[39m=\u001b[39m A \u001b[39m*\u001b[39;49m jnp\u001b[39m.\u001b[39;49mexp(\u001b[39m-\u001b[39;49m(t\u001b[39m-\u001b[39;49mt0)\u001b[39m*\u001b[39;49m\u001b[39m*\u001b[39;49m\u001b[39m2\u001b[39;49m\u001b[39m/\u001b[39;49mtau\u001b[39m*\u001b[39;49m\u001b[39m*\u001b[39;49m\u001b[39m2\u001b[39;49m)\u001b[39m*\u001b[39mjnp\u001b[39m.\u001b[39mcos(\u001b[39m2\u001b[39m\u001b[39m*\u001b[39mjnp\u001b[39m.\u001b[39mpi\u001b[39m*\u001b[39mf0\u001b[39m*\u001b[39mt) \u001b[39m#time domain plus polarisation\u001b[39;00m\n\u001b[1;32m      6\u001b[0m     hct \u001b[39m=\u001b[39m A \u001b[39m*\u001b[39m jnp\u001b[39m.\u001b[39mexp(\u001b[39m-\u001b[39m(t\u001b[39m-\u001b[39mt0)\u001b[39m*\u001b[39m\u001b[39m*\u001b[39m\u001b[39m2\u001b[39m\u001b[39m/\u001b[39mtau\u001b[39m*\u001b[39m\u001b[39m*\u001b[39m\u001b[39m2\u001b[39m)\u001b[39m*\u001b[39mjnp\u001b[39m.\u001b[39msin(\u001b[39m2\u001b[39m\u001b[39m*\u001b[39mjnp\u001b[39m.\u001b[39mpi\u001b[39m*\u001b[39mf0\u001b[39m*\u001b[39mt) \u001b[39m#time domain cross polarisation\u001b[39;00m\n\u001b[1;32m      8\u001b[0m     hp \u001b[39m=\u001b[39m jnp\u001b[39m.\u001b[39mfft\u001b[39m.\u001b[39mrfft(hpt) \u001b[39m#frequency domain plus polarisation\u001b[39;00m\n",
      "File \u001b[0;32m~/.conda/envs/vigw/lib/python3.10/site-packages/jax/_src/numpy/lax_numpy.py:4948\u001b[0m, in \u001b[0;36m_defer_to_unrecognized_arg.<locals>.deferring_binary_op\u001b[0;34m(self, other)\u001b[0m\n\u001b[1;32m   4946\u001b[0m args \u001b[39m=\u001b[39m (other, \u001b[39mself\u001b[39m) \u001b[39mif\u001b[39;00m swap \u001b[39melse\u001b[39;00m (\u001b[39mself\u001b[39m, other)\n\u001b[1;32m   4947\u001b[0m \u001b[39mif\u001b[39;00m \u001b[39misinstance\u001b[39m(other, _accepted_binop_types):\n\u001b[0;32m-> 4948\u001b[0m   \u001b[39mreturn\u001b[39;00m binary_op(\u001b[39m*\u001b[39;49margs)\n\u001b[1;32m   4949\u001b[0m \u001b[39mif\u001b[39;00m \u001b[39misinstance\u001b[39m(other, _rejected_binop_types):\n\u001b[1;32m   4950\u001b[0m   \u001b[39mraise\u001b[39;00m \u001b[39mTypeError\u001b[39;00m(\u001b[39mf\u001b[39m\u001b[39m\"\u001b[39m\u001b[39munsupported operand type(s) for \u001b[39m\u001b[39m{\u001b[39;00mopchar\u001b[39m}\u001b[39;00m\u001b[39m: \u001b[39m\u001b[39m\"\u001b[39m\n\u001b[1;32m   4951\u001b[0m                   \u001b[39mf\u001b[39m\u001b[39m\"\u001b[39m\u001b[39m{\u001b[39;00m\u001b[39mtype\u001b[39m(args[\u001b[39m0\u001b[39m])\u001b[39m.\u001b[39m\u001b[39m__name__\u001b[39m\u001b[39m!r}\u001b[39;00m\u001b[39m and \u001b[39m\u001b[39m{\u001b[39;00m\u001b[39mtype\u001b[39m(args[\u001b[39m1\u001b[39m])\u001b[39m.\u001b[39m\u001b[39m__name__\u001b[39m\u001b[39m!r}\u001b[39;00m\u001b[39m\"\u001b[39m)\n",
      "    \u001b[0;31m[... skipping hidden 12 frame]\u001b[0m\n",
      "File \u001b[0;32m~/.conda/envs/vigw/lib/python3.10/site-packages/jax/_src/numpy/ufuncs.py:97\u001b[0m, in \u001b[0;36m_maybe_bool_binop.<locals>.fn\u001b[0;34m(x1, x2)\u001b[0m\n\u001b[1;32m     96\u001b[0m \u001b[39mdef\u001b[39;00m \u001b[39mfn\u001b[39m(x1, x2, \u001b[39m/\u001b[39m):\n\u001b[0;32m---> 97\u001b[0m   x1, x2 \u001b[39m=\u001b[39m _promote_args(numpy_fn\u001b[39m.\u001b[39;49m\u001b[39m__name__\u001b[39;49m, x1, x2)\n\u001b[1;32m     98\u001b[0m   \u001b[39mreturn\u001b[39;00m lax_fn(x1, x2) \u001b[39mif\u001b[39;00m x1\u001b[39m.\u001b[39mdtype \u001b[39m!=\u001b[39m np\u001b[39m.\u001b[39mbool_ \u001b[39melse\u001b[39;00m bool_lax_fn(x1, x2)\n",
      "File \u001b[0;32m~/.conda/envs/vigw/lib/python3.10/site-packages/jax/_src/numpy/util.py:365\u001b[0m, in \u001b[0;36m_promote_args\u001b[0;34m(fun_name, *args)\u001b[0m\n\u001b[1;32m    363\u001b[0m _check_arraylike(fun_name, \u001b[39m*\u001b[39margs)\n\u001b[1;32m    364\u001b[0m _check_no_float0s(fun_name, \u001b[39m*\u001b[39margs)\n\u001b[0;32m--> 365\u001b[0m \u001b[39mreturn\u001b[39;00m _promote_shapes(fun_name, \u001b[39m*\u001b[39;49m_promote_dtypes(\u001b[39m*\u001b[39;49margs))\n",
      "File \u001b[0;32m~/.conda/envs/vigw/lib/python3.10/site-packages/jax/_src/numpy/util.py:258\u001b[0m, in \u001b[0;36m_promote_shapes\u001b[0;34m(fun_name, *args)\u001b[0m\n\u001b[1;32m    256\u001b[0m \u001b[39mif\u001b[39;00m config\u001b[39m.\u001b[39mjax_numpy_rank_promotion \u001b[39m!=\u001b[39m \u001b[39m\"\u001b[39m\u001b[39mallow\u001b[39m\u001b[39m\"\u001b[39m:\n\u001b[1;32m    257\u001b[0m   _rank_promotion_warning_or_error(fun_name, shapes)\n\u001b[0;32m--> 258\u001b[0m result_rank \u001b[39m=\u001b[39m \u001b[39mlen\u001b[39m(lax\u001b[39m.\u001b[39;49mbroadcast_shapes(\u001b[39m*\u001b[39;49mshapes))\n\u001b[1;32m    259\u001b[0m \u001b[39mreturn\u001b[39;00m [_broadcast_to(arg, (\u001b[39m1\u001b[39m,) \u001b[39m*\u001b[39m (result_rank \u001b[39m-\u001b[39m \u001b[39mlen\u001b[39m(shp)) \u001b[39m+\u001b[39m shp)\n\u001b[1;32m    260\u001b[0m         \u001b[39mfor\u001b[39;00m arg, shp \u001b[39min\u001b[39;00m \u001b[39mzip\u001b[39m(args, shapes)]\n",
      "    \u001b[0;31m[... skipping hidden 1 frame]\u001b[0m\n",
      "File \u001b[0;32m~/.conda/envs/vigw/lib/python3.10/site-packages/jax/_src/lax/lax.py:157\u001b[0m, in \u001b[0;36m_broadcast_shapes_uncached\u001b[0;34m(*shapes)\u001b[0m\n\u001b[1;32m    155\u001b[0m result_shape \u001b[39m=\u001b[39m _try_broadcast_shapes(shape_list)\n\u001b[1;32m    156\u001b[0m \u001b[39mif\u001b[39;00m result_shape \u001b[39mis\u001b[39;00m \u001b[39mNone\u001b[39;00m:\n\u001b[0;32m--> 157\u001b[0m   \u001b[39mraise\u001b[39;00m \u001b[39mValueError\u001b[39;00m(\u001b[39mf\u001b[39m\u001b[39m\"\u001b[39m\u001b[39mIncompatible shapes for broadcasting: shapes=\u001b[39m\u001b[39m{\u001b[39;00m\u001b[39mlist\u001b[39m(shapes)\u001b[39m}\u001b[39;00m\u001b[39m\"\u001b[39m)\n\u001b[1;32m    158\u001b[0m \u001b[39mreturn\u001b[39;00m result_shape\n",
      "\u001b[0;31mValueError\u001b[0m: Incompatible shapes for broadcasting: shapes=[(100,), (1, 2048)]"
     ]
    }
   ],
   "source": [
    "n_params = 4\n",
    "flow_num_layers = 4\n",
    "hidden_size = 16\n",
    "mlp_num_layers = 2\n",
    "num_bins = 4\n",
    "\n",
    "\n",
    "# perform variational inference\n",
    "epochs = 100\n",
    "loss = dict(train=[], val=[])\n",
    "Nsamps = 100\n",
    "\n",
    "learning_rate = 0.01\n",
    "optimiser = optax.adam(learning_rate)              #stochastic gradient descent \n",
    "\n",
    "prng_seq = hk.PRNGSequence(42)\n",
    "key = next(prng_seq)\n",
    "params = sample_and_log_prob.init(key, prng_key=key, n=Nsamps)\n",
    "opt_state = optimiser.init(params)\n",
    "\n",
    "from tqdm import tqdm, trange\n",
    "   \n",
    "ldict = dict(loss = 0, T=1)\n",
    "\n",
    "log_l = LogL(true_params)         \n",
    "\n",
    "with trange(epochs) as tepochs:\n",
    "    for epoch in tepochs:\n",
    "  \n",
    "        #update NN params (stochastic gradient descent with Adam optimiser)\n",
    "        prng_key = next(prng_seq)\n",
    "        loss = loss_fn(params,  prng_key, Nsamps)\n",
    "        ldict['loss'] = f'{loss:.2f}'\n",
    "        tepochs.set_postfix(ldict, refresh=True)\n",
    "        params, opt_state = update(params, prng_key, opt_state)        #take a step in direction of stepest descent (negative gradient)\n",
    "            \n",
    "            \n",
    "        #print results every 50 iterations\n",
    "        if epoch%50 == 0:\n",
    "            print(f'Epoch {epoch}, loss {loss}')\n",
    "            x_gen, log_prob_gen = sample_and_log_prob.apply(params, next(prng_seq), 10*Nsamps)\n",
    "            x_gen = np.array(x_gen, copy=False)\n",
    "            p_gen = np.vstack(list(log_l.array_to_phys(x_gen).values()))\n",
    "            truths = [log_l.true_gw_params[n] for n in ['A','ra','dec','psi']]\n",
    "            fig = corner.corner(p_gen.T, labels = log_l.gw_params, truths = truths)\n",
    "            plt.show()\n",
    "\n",
    "print(\"Done!\")\n",
    "\n",
    "x_gen, log_prob_gen = sample_and_log_prob.apply(params, next(prng_seq), 100*Nsamps)\n",
    "\n",
    "x_gen = np.array(x_gen, copy=False)\n",
    "p_gen = np.vstack(list(log_l.array_to_phys(x_gen).values()))\n",
    "truths = [log_l.true_gw_params[n] for n in ['A','B','C']]\n",
    "fig = corner.corner(p_gen.T, labels = log_l.gw_params, truths = truths)\n",
    "plt.show()"
   ]
  },
  {
   "cell_type": "code",
   "execution_count": 166,
   "metadata": {},
   "outputs": [
    {
     "name": "stdout",
     "output_type": "stream",
     "text": [
      "{'A': Array([-0.5431577 ,  0.96932533, -0.3475862 ,  0.71317518,  0.24289826,\n",
      "        0.6124214 ,  0.03533857,  0.2956065 , -0.79037099,  0.26872634,\n",
      "        0.97840075,  0.33450018,  0.33042742, -0.44370358,  0.56553786,\n",
      "       -0.32010291, -0.93359144, -0.8533547 ,  0.75119936, -0.59289556,\n",
      "        0.51314745, -0.8727492 ,  0.1009783 ,  0.65345818, -0.30324559,\n",
      "        0.8770263 , -0.03618788,  0.84738053,  0.67809712,  0.94322702,\n",
      "       -0.24082463, -0.85283436, -0.95810391,  0.30869714, -0.17361   ,\n",
      "       -0.84709579,  0.79757859,  0.94255953,  0.4196401 , -0.6562728 ,\n",
      "       -0.44330852,  0.21718657, -0.31422378, -0.88270261,  0.46518684,\n",
      "       -0.97747418,  0.67863249,  0.86348478,  0.87965681, -0.06704527,\n",
      "        0.70349583, -0.05951069,  0.02736778, -0.41523776,  0.83175709,\n",
      "        0.77379272,  0.66452742,  0.34733266, -0.54080936, -0.81759559,\n",
      "        0.73358162, -0.08136186,  0.55466134, -0.98024018,  0.70347278,\n",
      "       -0.44012189,  0.74985507, -0.52917137,  0.33750467, -0.57852254,\n",
      "       -0.36776554,  0.04882255,  0.31427108,  0.66239533, -0.81269097,\n",
      "       -0.70476486, -0.28815768,  0.28104182, -0.08030977, -0.43799848,\n",
      "       -0.31010855,  0.68717026, -0.30174156, -0.67611598,  0.39324406,\n",
      "       -0.59925809,  0.3287548 , -0.69548253, -0.46191823, -0.01569062,\n",
      "        0.94731879,  0.39464492, -0.75908743, -0.3725757 , -0.92230431,\n",
      "        0.43075528,  0.76948236,  0.91926295, -0.49016889, -0.23625822],      dtype=float64), 'ra': Array([ 0.05269671, -0.35087918,  0.71124451, -0.23725713,  0.51636056,\n",
      "       -0.00562585,  0.49017102, -0.86174783,  0.94564204, -0.54599882,\n",
      "        0.11978177,  0.30280471,  0.20941793, -0.16242138, -0.28155826,\n",
      "        0.43355888,  0.60719461, -0.69050676,  0.8487303 ,  0.48689786,\n",
      "       -0.03446158, -0.17652553,  0.23483308,  0.84062953,  0.93767689,\n",
      "       -0.57576058,  0.24445757, -0.30482002,  0.35253293, -0.3718612 ,\n",
      "       -0.86458297,  0.93187303,  0.75573306, -0.11856857, -0.95511065,\n",
      "       -0.88595219, -0.76566586, -0.18325608,  0.22013947, -0.45073723,\n",
      "       -0.64344436,  0.65787103,  0.53826527, -0.04028984, -0.90508953,\n",
      "        0.70509752,  0.09385409, -0.41520677, -0.9016395 , -0.13070907,\n",
      "        0.34696532, -0.60601057, -0.74970338,  0.8325883 , -0.42560854,\n",
      "       -0.13563502,  0.47536853, -0.74125685,  0.53949438, -0.29775248,\n",
      "        0.8689156 ,  0.38121753,  0.60593647,  0.90965258,  0.28629331,\n",
      "        0.29660618, -0.61831877,  0.30646153,  0.8539824 ,  0.31132605,\n",
      "       -0.92350022, -0.96681462,  0.85448385, -0.01099501, -0.93795784,\n",
      "        0.3367399 ,  0.31030322,  0.23131137, -0.83728214, -0.31454001,\n",
      "        0.26907539,  0.29136444, -0.67886417, -0.25989839, -0.25216847,\n",
      "        0.87605423,  0.12944715,  0.30099273, -0.96455844,  0.8564251 ,\n",
      "       -0.02911314, -0.30946133, -0.70401416,  0.25296443,  0.62684438,\n",
      "       -0.26145781, -0.50581153,  0.07727674,  0.09410911,  0.19641974],      dtype=float64), 'dec': Array([-0.7512385 , -0.58273929,  0.35995947, -0.22994588,  0.5346247 ,\n",
      "        0.11916692, -0.71728279,  0.05660289,  0.20313522, -0.48572016,\n",
      "        0.45536502,  0.31531002, -0.06569209, -0.22679162,  0.86202393,\n",
      "       -0.63275493,  0.75215704,  0.77528555,  0.27781443,  0.07568125,\n",
      "       -0.5608352 ,  0.9254743 , -0.03979318, -0.13126839,  0.67187547,\n",
      "        0.63007273,  0.16367354, -0.44253426,  0.88147731,  0.98225149,\n",
      "       -0.70711502,  0.79392643, -0.06601314, -0.34291759, -0.34276683,\n",
      "        0.24705206,  0.50113098, -0.77885836,  0.38065639, -0.37709048,\n",
      "        0.6864855 ,  0.59336442, -0.17951112,  0.92772738,  0.91900679,\n",
      "       -0.49148973, -0.2498986 , -0.48235905,  0.92683293,  0.16253274,\n",
      "        0.57602566,  0.03677097,  0.67537921, -0.57642739, -0.16801742,\n",
      "       -0.09230055,  0.03067461,  0.56001095,  0.27039919, -0.42408147,\n",
      "        0.57676392,  0.35868475,  0.15732142, -0.78480506, -0.29583694,\n",
      "       -0.04747551, -0.64249523,  0.89354937, -0.86964212,  0.33676972,\n",
      "       -0.88654267,  0.20956262,  0.31462727, -0.65900917,  0.79681096,\n",
      "       -0.68672318, -0.67422193, -0.24354729, -0.89990767,  0.00179224,\n",
      "       -0.59380808,  0.56357077,  0.830236  , -0.76713336, -0.27518317,\n",
      "       -0.75415893,  0.78422051,  0.83472285, -0.88479619, -0.33649591,\n",
      "       -0.6257294 ,  0.40769594, -0.71708135,  0.3147558 , -0.40045173,\n",
      "       -0.20908002, -0.46179106,  0.46191297, -0.99647871,  0.4354375 ],      dtype=float64), 'psi': Array([ 0.92817978,  0.80927816, -0.15062909,  0.6349227 , -0.62976955,\n",
      "       -0.2701782 , -0.73766625, -0.97652176,  0.32098704,  0.66152928,\n",
      "        0.08180152, -0.79089428, -0.3012506 ,  0.23372637, -0.34207279,\n",
      "        0.65125954,  0.14950594, -0.77056853,  0.0323106 , -0.60138643,\n",
      "       -0.18093506, -0.68528322, -0.31368227, -0.11362344, -0.77421932,\n",
      "        0.55768325,  0.4335272 , -0.48737187, -0.57388027, -0.10654001,\n",
      "        0.4786884 ,  0.53772338,  0.50265902,  0.69498492, -0.77438002,\n",
      "        0.18660273,  0.44583351, -0.93772988, -0.66306164,  0.14199005,\n",
      "       -0.72298046, -0.44342121, -0.72864875,  0.65813323,  0.93207209,\n",
      "       -0.26941764,  0.94323605, -0.43007024,  0.63739677,  0.21070893,\n",
      "       -0.9949237 ,  0.12792835,  0.13306063, -0.77157436, -0.21742056,\n",
      "       -0.45259716, -0.75375608, -0.98297565,  0.71037112, -0.84102031,\n",
      "       -0.4399107 ,  0.26401024, -0.96856931,  0.55468064,  0.75114644,\n",
      "        0.61776893,  0.70104083,  0.53113919, -0.70243152, -0.45345378,\n",
      "       -0.7631965 , -0.69040018, -0.2567369 ,  0.64096468, -0.25872267,\n",
      "        0.34455664,  0.18125548, -0.99451946,  0.83740003,  0.61854729,\n",
      "       -0.50028982, -0.26092084, -0.94871346,  0.38002274, -0.62498043,\n",
      "        0.74127801,  0.76570456,  0.57312002, -0.85823166, -0.3878034 ,\n",
      "        0.02189131,  0.1287716 ,  0.40880263,  0.25514041, -0.9861096 ,\n",
      "        0.49456327,  0.11095721,  0.58587645,  0.18310146, -0.92864658],      dtype=float64)}\n"
     ]
    },
    {
     "ename": "TypeError",
     "evalue": "mul got incompatible shapes for broadcasting: (100,), (2048,).",
     "output_type": "error",
     "traceback": [
      "\u001b[0;31m---------------------------------------------------------------------------\u001b[0m",
      "\u001b[0;31mTypeError\u001b[0m                                 Traceback (most recent call last)",
      "Cell \u001b[0;32mIn[166], line 4\u001b[0m\n\u001b[1;32m      1\u001b[0m x, logq \u001b[39m=\u001b[39m sample_and_log_prob\u001b[39m.\u001b[39mapply(params, prng_key, \u001b[39m100\u001b[39m)\n\u001b[1;32m      3\u001b[0m p \u001b[39m=\u001b[39m log_l\u001b[39m.\u001b[39marray_to_phys(x)\n\u001b[0;32m----> 4\u001b[0m log_l(p)\n\u001b[1;32m      6\u001b[0m \u001b[39m#log_p = log_likelihood(x)\u001b[39;00m\n",
      "Cell \u001b[0;32mIn[147], line 65\u001b[0m, in \u001b[0;36mLogL.__call__\u001b[0;34m(self, params)\u001b[0m\n\u001b[1;32m     64\u001b[0m \u001b[39mdef\u001b[39;00m \u001b[39m__call__\u001b[39m(\u001b[39mself\u001b[39m, params):\n\u001b[0;32m---> 65\u001b[0m     hp, hc \u001b[39m=\u001b[39m simulate_fd_sine_gaussian_waveform(params[\u001b[39m'\u001b[39;49m\u001b[39mA\u001b[39;49m\u001b[39m'\u001b[39;49m], \u001b[39mself\u001b[39;49m\u001b[39m.\u001b[39;49mt0, \u001b[39mself\u001b[39;49m\u001b[39m.\u001b[39;49mf0, \u001b[39mself\u001b[39;49m\u001b[39m.\u001b[39;49mtau, \u001b[39mself\u001b[39;49m\u001b[39m.\u001b[39;49mtimes, \u001b[39mself\u001b[39;49m\u001b[39m.\u001b[39;49mf_min, \u001b[39mself\u001b[39;49m\u001b[39m.\u001b[39;49mdf)\n\u001b[1;32m     67\u001b[0m     r \u001b[39m=\u001b[39m \u001b[39mself\u001b[39m\u001b[39m.\u001b[39msimulate_response(hp, hc, params[\u001b[39m'\u001b[39m\u001b[39mra\u001b[39m\u001b[39m'\u001b[39m], params[\u001b[39m'\u001b[39m\u001b[39mdec\u001b[39m\u001b[39m'\u001b[39m], params[\u001b[39m'\u001b[39m\u001b[39mpsi\u001b[39m\u001b[39m'\u001b[39m])\n\u001b[1;32m     69\u001b[0m     residuals \u001b[39m=\u001b[39m jnp\u001b[39m.\u001b[39marray([r[ifo] \u001b[39m-\u001b[39m \u001b[39mself\u001b[39m\u001b[39m.\u001b[39mdata[ifo] \u001b[39mfor\u001b[39;00m ifo \u001b[39min\u001b[39;00m \u001b[39mself\u001b[39m\u001b[39m.\u001b[39mdetectors\u001b[39m.\u001b[39mkeys()])\n",
      "Cell \u001b[0;32mIn[30], line 5\u001b[0m, in \u001b[0;36msimulate_fd_sine_gaussian_waveform\u001b[0;34m(A, t0, f0, tau, times, fmin, df)\u001b[0m\n\u001b[1;32m      1\u001b[0m \u001b[39mdef\u001b[39;00m \u001b[39msimulate_fd_sine_gaussian_waveform\u001b[39m(A, t0, f0, tau, times, fmin, df):   \u001b[39m#without phase for now\u001b[39;00m\n\u001b[1;32m      3\u001b[0m     t \u001b[39m=\u001b[39m times\n\u001b[0;32m----> 5\u001b[0m     hpt \u001b[39m=\u001b[39m A \u001b[39m*\u001b[39;49m jnp\u001b[39m.\u001b[39;49mexp(\u001b[39m-\u001b[39;49m(t\u001b[39m-\u001b[39;49mt0)\u001b[39m*\u001b[39;49m\u001b[39m*\u001b[39;49m\u001b[39m2\u001b[39;49m\u001b[39m/\u001b[39;49mtau\u001b[39m*\u001b[39;49m\u001b[39m*\u001b[39;49m\u001b[39m2\u001b[39;49m)\u001b[39m*\u001b[39mjnp\u001b[39m.\u001b[39mcos(\u001b[39m2\u001b[39m\u001b[39m*\u001b[39mjnp\u001b[39m.\u001b[39mpi\u001b[39m*\u001b[39mf0\u001b[39m*\u001b[39mt) \u001b[39m#time domain plus polarisation\u001b[39;00m\n\u001b[1;32m      6\u001b[0m     hct \u001b[39m=\u001b[39m A \u001b[39m*\u001b[39m jnp\u001b[39m.\u001b[39mexp(\u001b[39m-\u001b[39m(t\u001b[39m-\u001b[39mt0)\u001b[39m*\u001b[39m\u001b[39m*\u001b[39m\u001b[39m2\u001b[39m\u001b[39m/\u001b[39mtau\u001b[39m*\u001b[39m\u001b[39m*\u001b[39m\u001b[39m2\u001b[39m)\u001b[39m*\u001b[39mjnp\u001b[39m.\u001b[39msin(\u001b[39m2\u001b[39m\u001b[39m*\u001b[39mjnp\u001b[39m.\u001b[39mpi\u001b[39m*\u001b[39mf0\u001b[39m*\u001b[39mt) \u001b[39m#time domain cross polarisation\u001b[39;00m\n\u001b[1;32m      8\u001b[0m     hp \u001b[39m=\u001b[39m jnp\u001b[39m.\u001b[39mfft\u001b[39m.\u001b[39mrfft(hpt) \u001b[39m#frequency domain plus polarisation\u001b[39;00m\n",
      "File \u001b[0;32m~/.conda/envs/vigw/lib/python3.10/site-packages/jax/_src/numpy/lax_numpy.py:4948\u001b[0m, in \u001b[0;36m_defer_to_unrecognized_arg.<locals>.deferring_binary_op\u001b[0;34m(self, other)\u001b[0m\n\u001b[1;32m   4946\u001b[0m args \u001b[39m=\u001b[39m (other, \u001b[39mself\u001b[39m) \u001b[39mif\u001b[39;00m swap \u001b[39melse\u001b[39;00m (\u001b[39mself\u001b[39m, other)\n\u001b[1;32m   4947\u001b[0m \u001b[39mif\u001b[39;00m \u001b[39misinstance\u001b[39m(other, _accepted_binop_types):\n\u001b[0;32m-> 4948\u001b[0m   \u001b[39mreturn\u001b[39;00m binary_op(\u001b[39m*\u001b[39;49margs)\n\u001b[1;32m   4949\u001b[0m \u001b[39mif\u001b[39;00m \u001b[39misinstance\u001b[39m(other, _rejected_binop_types):\n\u001b[1;32m   4950\u001b[0m   \u001b[39mraise\u001b[39;00m \u001b[39mTypeError\u001b[39;00m(\u001b[39mf\u001b[39m\u001b[39m\"\u001b[39m\u001b[39munsupported operand type(s) for \u001b[39m\u001b[39m{\u001b[39;00mopchar\u001b[39m}\u001b[39;00m\u001b[39m: \u001b[39m\u001b[39m\"\u001b[39m\n\u001b[1;32m   4951\u001b[0m                   \u001b[39mf\u001b[39m\u001b[39m\"\u001b[39m\u001b[39m{\u001b[39;00m\u001b[39mtype\u001b[39m(args[\u001b[39m0\u001b[39m])\u001b[39m.\u001b[39m\u001b[39m__name__\u001b[39m\u001b[39m!r}\u001b[39;00m\u001b[39m and \u001b[39m\u001b[39m{\u001b[39;00m\u001b[39mtype\u001b[39m(args[\u001b[39m1\u001b[39m])\u001b[39m.\u001b[39m\u001b[39m__name__\u001b[39m\u001b[39m!r}\u001b[39;00m\u001b[39m\"\u001b[39m)\n",
      "    \u001b[0;31m[... skipping hidden 12 frame]\u001b[0m\n",
      "File \u001b[0;32m~/.conda/envs/vigw/lib/python3.10/site-packages/jax/_src/numpy/ufuncs.py:98\u001b[0m, in \u001b[0;36m_maybe_bool_binop.<locals>.fn\u001b[0;34m(x1, x2)\u001b[0m\n\u001b[1;32m     96\u001b[0m \u001b[39mdef\u001b[39;00m \u001b[39mfn\u001b[39m(x1, x2, \u001b[39m/\u001b[39m):\n\u001b[1;32m     97\u001b[0m   x1, x2 \u001b[39m=\u001b[39m _promote_args(numpy_fn\u001b[39m.\u001b[39m\u001b[39m__name__\u001b[39m, x1, x2)\n\u001b[0;32m---> 98\u001b[0m   \u001b[39mreturn\u001b[39;00m lax_fn(x1, x2) \u001b[39mif\u001b[39;00m x1\u001b[39m.\u001b[39mdtype \u001b[39m!=\u001b[39m np\u001b[39m.\u001b[39mbool_ \u001b[39melse\u001b[39;00m bool_lax_fn(x1, x2)\n",
      "    \u001b[0;31m[... skipping hidden 7 frame]\u001b[0m\n",
      "File \u001b[0;32m~/.conda/envs/vigw/lib/python3.10/site-packages/jax/_src/lax/lax.py:1565\u001b[0m, in \u001b[0;36mbroadcasting_shape_rule\u001b[0;34m(name, *avals)\u001b[0m\n\u001b[1;32m   1563\u001b[0m       result_shape\u001b[39m.\u001b[39mappend(non_1s[\u001b[39m0\u001b[39m])\n\u001b[1;32m   1564\u001b[0m     \u001b[39melse\u001b[39;00m:\n\u001b[0;32m-> 1565\u001b[0m       \u001b[39mraise\u001b[39;00m \u001b[39mTypeError\u001b[39;00m(\u001b[39mf\u001b[39m\u001b[39m'\u001b[39m\u001b[39m{\u001b[39;00mname\u001b[39m}\u001b[39;00m\u001b[39m got incompatible shapes for broadcasting: \u001b[39m\u001b[39m'\u001b[39m\n\u001b[1;32m   1566\u001b[0m                       \u001b[39mf\u001b[39m\u001b[39m'\u001b[39m\u001b[39m{\u001b[39;00m\u001b[39m\"\u001b[39m\u001b[39m, \u001b[39m\u001b[39m\"\u001b[39m\u001b[39m.\u001b[39mjoin(\u001b[39mmap\u001b[39m(\u001b[39mstr\u001b[39m,\u001b[39m \u001b[39m\u001b[39mmap\u001b[39m(\u001b[39mtuple\u001b[39m,\u001b[39m \u001b[39mshapes)))\u001b[39m}\u001b[39;00m\u001b[39m.\u001b[39m\u001b[39m'\u001b[39m)\n\u001b[1;32m   1568\u001b[0m \u001b[39mreturn\u001b[39;00m \u001b[39mtuple\u001b[39m(result_shape)\n",
      "\u001b[0;31mTypeError\u001b[0m: mul got incompatible shapes for broadcasting: (100,), (2048,)."
     ]
    }
   ],
   "source": [
    "x, logq = sample_and_log_prob.apply(params, prng_key, 100)\n",
    "\n",
    "p = log_l.array_to_phys(x)\n",
    "log_l(p)\n",
    "\n",
    "#log_p = log_likelihood(x)"
   ]
  },
  {
   "cell_type": "code",
   "execution_count": 157,
   "metadata": {},
   "outputs": [
    {
     "data": {
      "text/plain": [
       "100"
      ]
     },
     "execution_count": 157,
     "metadata": {},
     "output_type": "execute_result"
    }
   ],
   "source": [
    "len(logq)"
   ]
  },
  {
   "cell_type": "code",
   "execution_count": null,
   "metadata": {},
   "outputs": [],
   "source": []
  }
 ],
 "metadata": {
  "kernelspec": {
   "display_name": "vigw",
   "language": "python",
   "name": "python3"
  },
  "language_info": {
   "codemirror_mode": {
    "name": "ipython",
    "version": 3
   },
   "file_extension": ".py",
   "mimetype": "text/x-python",
   "name": "python",
   "nbconvert_exporter": "python",
   "pygments_lexer": "ipython3",
   "version": "3.10.11"
  },
  "orig_nbformat": 4
 },
 "nbformat": 4,
 "nbformat_minor": 2
}
